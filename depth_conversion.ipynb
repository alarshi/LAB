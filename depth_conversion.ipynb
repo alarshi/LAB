{
 "cells": [
  {
   "cell_type": "code",
   "execution_count": 6,
   "metadata": {},
   "outputs": [],
   "source": [
    "#!/usr/bin/python\n",
    "from obspy.taup import TauPyModel\n",
    "import obspy\n",
    "import numpy as np\n",
    "from obspy.taup.tau_model import TauModel\n",
    "from multiprocessing import Pool\n",
    "import time"
   ]
  },
  {
   "cell_type": "code",
   "execution_count": 2,
   "metadata": {},
   "outputs": [],
   "source": [
    "# first coordinate distance and second event depth\n",
    "source_info = np.loadtxt(\"receiv_source_coordinates.txt\", usecols=(1, 2, 3, 4, 5));\n",
    "file_info = np.loadtxt(\"receiv_source_coordinates.txt\", usecols=(0,), dtype='str') #,dtype='str') \n",
    "# obspy.taup.taup_create.build_taup_model('synthetic.tvel', output_folder='.')\n",
    "# model = TauPyModel(model=\"iasp91\") # using iasp as in cecilias"
   ]
  },
  {
   "cell_type": "code",
   "execution_count": 3,
   "metadata": {},
   "outputs": [],
   "source": [
    "model = TauPyModel(model=\"iasp91\") "
   ]
  },
  {
   "cell_type": "code",
   "execution_count": 24,
   "metadata": {},
   "outputs": [],
   "source": [
    "workers = 4\n",
    "chunk = 5\n",
    "file_name = []\n",
    "time_diff = []\n",
    "f = 2\n",
    "discon= range(11, 301)\n",
    "lhs = np.ones((len(discon,)))\n",
    "\n",
    "def calculate_depths(i):\n",
    "  \n",
    "    model = TauPyModel(model=\"iasp91\") \n",
    "# for i in range(f):\n",
    "    for j in range(len(discon)):\n",
    "        phase = 'S'+ str(discon[j]) + 'p'\n",
    "        arrivals = model.get_ray_paths(source_depth_in_km=source_info[i,1], \\\n",
    "                                   distance_in_degree=source_info[i,0] , \\\n",
    "                                   phase_list=[phase])\n",
    "\n",
    "        piercing_points = model.get_pierce_points(source_depth_in_km=source_info[i,1], \\\n",
    "                                   distance_in_degree=source_info[i,0] , \\\n",
    "                                   phase_list=[phase])\n",
    "\n",
    "        piercing_points_S = model.get_pierce_points(source_depth_in_km=source_info[i,1], \\\n",
    "                                   distance_in_degree=source_info[i,0] , \\\n",
    "                                   phase_list=['S'])\n",
    "\n",
    "        if piercing_points:  \n",
    "            t_sp = piercing_points[0].pierce[-1][1]\n",
    "            t_s = piercing_points_S[0].pierce[-1][1]\n",
    "            lhs[j] = t_s - t_sp  \n",
    "            file_name = file_info[i]\n",
    "    return (lhs, file_name)\n",
    "\n",
    "files = [x for x in range(1, f)]\n",
    "\n",
    "# start = time.time()\n",
    "\n",
    "with Pool(workers) as p:\n",
    "    time_diff = ((p.map(calculate_depths, files, chunksize=500)))\n",
    "\n",
    "# end = time.time()\n",
    "\n",
    "np.savetxt(\"depth_points.txt\", np.column_stack((time_diff)), fmt=\"%s\" )            \n",
    "#             print (piercing_points_S[0].pierce)\n",
    "# piercing_points is from Arrival class, with  data values \n",
    "# as dtype([('p', '<f8'), ('time', '<f8'), ('dist', '<f8'), ('depth', '<f8')]\n",
    "# p is in seconds/radians, time is in seconds, dist: purist distance in radians"
   ]
  },
  {
   "cell_type": "code",
   "execution_count": 6,
   "metadata": {},
   "outputs": [
    {
     "ename": "NameError",
     "evalue": "name 'lat' is not defined",
     "output_type": "error",
     "traceback": [
      "\u001b[0;31m---------------------------------------------------------------------------\u001b[0m",
      "\u001b[0;31mNameError\u001b[0m                                 Traceback (most recent call last)",
      "\u001b[0;32m<ipython-input-6-47e4c3073a17>\u001b[0m in \u001b[0;36m<module>\u001b[0;34m()\u001b[0m\n\u001b[0;32m----> 1\u001b[0;31m \u001b[0mnp\u001b[0m\u001b[0;34m.\u001b[0m\u001b[0msavetxt\u001b[0m\u001b[0;34m(\u001b[0m\u001b[0;34m\"lat_long.txt\"\u001b[0m\u001b[0;34m,\u001b[0m \u001b[0mnp\u001b[0m\u001b[0;34m.\u001b[0m\u001b[0mcolumn_stack\u001b[0m\u001b[0;34m(\u001b[0m \u001b[0;34m(\u001b[0m\u001b[0mnp\u001b[0m\u001b[0;34m.\u001b[0m\u001b[0mdegrees\u001b[0m\u001b[0;34m(\u001b[0m\u001b[0mlat\u001b[0m\u001b[0;34m)\u001b[0m\u001b[0;34m,\u001b[0m \u001b[0mnp\u001b[0m\u001b[0;34m.\u001b[0m\u001b[0mdegrees\u001b[0m\u001b[0;34m(\u001b[0m\u001b[0mlng\u001b[0m\u001b[0;34m)\u001b[0m \u001b[0;34m)\u001b[0m \u001b[0;34m)\u001b[0m \u001b[0;34m)\u001b[0m\u001b[0;34m\u001b[0m\u001b[0;34m\u001b[0m\u001b[0m\n\u001b[0m",
      "\u001b[0;31mNameError\u001b[0m: name 'lat' is not defined"
     ]
    }
   ],
   "source": [
    "np.savetxt(\"lat_long.txt\", np.column_stack( (np.degrees(lat), np.degrees(lng) ) ) )"
   ]
  },
  {
   "cell_type": "code",
   "execution_count": 7,
   "metadata": {},
   "outputs": [],
   "source": [
    "np.savetxt(\"lat_long.txt\", np.column_stack( (file_name, np.degrees(dist), source_lat, \\\n",
    "                                             source_long, source_az ) ),  fmt=\"%s\")"
   ]
  },
  {
   "cell_type": "code",
   "execution_count": null,
   "metadata": {},
   "outputs": [],
   "source": []
  }
 ],
 "metadata": {
  "kernelspec": {
   "display_name": "Python 3",
   "language": "python",
   "name": "python3"
  },
  "language_info": {
   "codemirror_mode": {
    "name": "ipython",
    "version": 3
   },
   "file_extension": ".py",
   "mimetype": "text/x-python",
   "name": "python",
   "nbconvert_exporter": "python",
   "pygments_lexer": "ipython3",
   "version": "3.6.5"
  }
 },
 "nbformat": 4,
 "nbformat_minor": 2
}
