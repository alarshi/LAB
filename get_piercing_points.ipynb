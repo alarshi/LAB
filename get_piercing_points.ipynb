{
 "cells": [
  {
   "cell_type": "code",
   "execution_count": 1,
   "metadata": {},
   "outputs": [],
   "source": [
    "#!/usr/bin/python\n",
    "\n",
    "from obspy.taup import TauPyModel\n",
    "import obspy\n",
    "import numpy as np"
   ]
  },
  {
   "cell_type": "code",
   "execution_count": 2,
   "metadata": {},
   "outputs": [],
   "source": [
    "# first coordinate distance and second event depth\n",
    "source_info = np.loadtxt(\"receiv_source_sta_lta.txt\", usecols=(1, 2, 3, 4, 5));\n",
    "file_info = np.loadtxt(\"receiv_source_sta_lta.txt\", usecols=(0,), dtype='str') #,dtype='str') \n",
    "# obspy.taup.taup_create.build_taup_model('my_model.tvel', output_folder='.')\n",
    "model = TauPyModel(model=\"iasp91\") # using iasp as in cecilias"
   ]
  },
  {
   "cell_type": "code",
   "execution_count": 3,
   "metadata": {},
   "outputs": [
    {
     "name": "stdout",
     "output_type": "stream",
     "text": [
      "160.604\n"
     ]
    }
   ],
   "source": [
    "print(source_info[2, 3])"
   ]
  },
  {
   "cell_type": "code",
   "execution_count": 4,
   "metadata": {},
   "outputs": [],
   "source": [
    "dist = []\n",
    "source_lat = []\n",
    "source_long = []\n",
    "source_az = []\n",
    "file_name = []\n",
    "\n",
    "for i in range(len(source_info[:,1])):\n",
    "    arrivals = model.get_ray_paths(source_depth_in_km=source_info[i,1], \\\n",
    "                                   distance_in_degree=source_info[i,0] , \\\n",
    "                                   phase_list=[ \"S100P\"])\n",
    "    \n",
    "    piercing_points = model.get_pierce_points(source_depth_in_km=source_info[i,1], \\\n",
    "                                   distance_in_degree=source_info[i,0] , \\\n",
    "                                   phase_list=[\"S100P\"])\n",
    "       \n",
    "# piercing_points is from Arrival class, with  data values \n",
    "# as dtype([('p', '<f8'), ('time', '<f8'), ('dist', '<f8'), ('depth', '<f8')]\n",
    "# p is in seconds/radians, time is in seconds, dist: purist distance in radians\n",
    "\n",
    "    if piercing_points:\n",
    "        dist.append(piercing_points[0].pierce[-3][2]) # distance corresponding to turning point at 100\n",
    "        source_lat.append(source_info[i,2])\n",
    "        source_long.append(source_info[i,3])\n",
    "        source_az.append(source_info[i,4])\n",
    "        file_name.append(file_info[i])\n",
    "# #         ax = arrivals.plot_rays(plot_type=\"cartesian\")       \n",
    "#         purist_dist.append(piercing_points[0].pierce[-1][2]*180/np.pi)\n",
    "#         print (purist_dist)\n",
    "#         phi1 = np.radians(source_info[i,2]); # latitude 1\n",
    "#         lambda1 = np.radians(source_info[i,3]); # longitude 1\n",
    "#         dlt = piercing_points[0].pierce[-1][2]*180/np.pi # angular distance\n",
    "#         az = np.radians(source_info[i,4])\n",
    "    \n",
    "#         phi2 =  np.arcsin(np.sin(phi1) * np.cos(dlt) + np.cos(phi1) * np.sin(dlt) * np.cos(az) ) # new latiutde\n",
    "#         lambda2 = lambda1  + np.arctan2(( np.sin(az) * np.sin(delta) * np.cos(phi1)), \\\n",
    "#                                          (np.cos(dlt) - np.sin(phi1) * np.sin(phi2) ) ) # new longitude\n",
    "        \n",
    "        \n",
    "#         lat.append(phi2)\n",
    "#         lng.append(np.pi/2 - lambda2)\n",
    "\n",
    "np.savetxt(\"lat_long.txt\", np.column_stack( (file_name, np.degrees(dist), source_lat, source_long, source_az ) ), fmt=\"%s\" )"
   ]
  },
  {
   "cell_type": "code",
   "execution_count": 5,
   "metadata": {},
   "outputs": [
    {
     "name": "stdout",
     "output_type": "stream",
     "text": [
      "130\n"
     ]
    }
   ],
   "source": [
    "model = TauPyModel(model=\"iasp91\")\n",
    "arrivals = model.get_travel_times(source_depth_in_km=100,\n",
    "\n",
    "                                  distance_in_degree=45,\n",
    "\n",
    "                                  phase_list=[\"P\", \"PSPSPS\"])\n",
    "arrivals = model.get_ray_paths(500, 130)\n",
    "arrival = arrivals[0]\n",
    "print(arrival.distance)"
   ]
  },
  {
   "cell_type": "code",
   "execution_count": 6,
   "metadata": {},
   "outputs": [
    {
     "ename": "NameError",
     "evalue": "name 'lat' is not defined",
     "output_type": "error",
     "traceback": [
      "\u001b[0;31m---------------------------------------------------------------------------\u001b[0m",
      "\u001b[0;31mNameError\u001b[0m                                 Traceback (most recent call last)",
      "\u001b[0;32m<ipython-input-6-47e4c3073a17>\u001b[0m in \u001b[0;36m<module>\u001b[0;34m()\u001b[0m\n\u001b[0;32m----> 1\u001b[0;31m \u001b[0mnp\u001b[0m\u001b[0;34m.\u001b[0m\u001b[0msavetxt\u001b[0m\u001b[0;34m(\u001b[0m\u001b[0;34m\"lat_long.txt\"\u001b[0m\u001b[0;34m,\u001b[0m \u001b[0mnp\u001b[0m\u001b[0;34m.\u001b[0m\u001b[0mcolumn_stack\u001b[0m\u001b[0;34m(\u001b[0m \u001b[0;34m(\u001b[0m\u001b[0mnp\u001b[0m\u001b[0;34m.\u001b[0m\u001b[0mdegrees\u001b[0m\u001b[0;34m(\u001b[0m\u001b[0mlat\u001b[0m\u001b[0;34m)\u001b[0m\u001b[0;34m,\u001b[0m \u001b[0mnp\u001b[0m\u001b[0;34m.\u001b[0m\u001b[0mdegrees\u001b[0m\u001b[0;34m(\u001b[0m\u001b[0mlng\u001b[0m\u001b[0;34m)\u001b[0m \u001b[0;34m)\u001b[0m \u001b[0;34m)\u001b[0m \u001b[0;34m)\u001b[0m\u001b[0;34m\u001b[0m\u001b[0;34m\u001b[0m\u001b[0m\n\u001b[0m",
      "\u001b[0;31mNameError\u001b[0m: name 'lat' is not defined"
     ]
    }
   ],
   "source": [
    "np.savetxt(\"lat_long.txt\", np.column_stack( (np.degrees(lat), np.degrees(lng) ) ) )"
   ]
  },
  {
   "cell_type": "code",
   "execution_count": 7,
   "metadata": {},
   "outputs": [],
   "source": [
    "np.savetxt(\"lat_long.txt\", np.column_stack( (file_name, np.degrees(dist), source_lat, \\\n",
    "                                             source_long, source_az ) ),  fmt=\"%s\")"
   ]
  },
  {
   "cell_type": "code",
   "execution_count": null,
   "metadata": {},
   "outputs": [],
   "source": []
  }
 ],
 "metadata": {
  "kernelspec": {
   "display_name": "Python 3",
   "language": "python",
   "name": "python3"
  },
  "language_info": {
   "codemirror_mode": {
    "name": "ipython",
    "version": 3
   },
   "file_extension": ".py",
   "mimetype": "text/x-python",
   "name": "python",
   "nbconvert_exporter": "python",
   "pygments_lexer": "ipython3",
   "version": "3.6.5"
  }
 },
 "nbformat": 4,
 "nbformat_minor": 2
}
